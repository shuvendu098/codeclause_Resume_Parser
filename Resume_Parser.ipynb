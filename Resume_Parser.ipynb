{
 "cells": [
  {
   "cell_type": "code",
   "execution_count": 2,
   "id": "13a421ca",
   "metadata": {
    "id": "13a421ca"
   },
   "outputs": [],
   "source": [
    "import pandas as pd\n",
    "import numpy as np\n",
    "from pdfminer.high_level import extract_text\n",
    "import re\n",
    "import spacy\n",
    "from spacy.matcher import Matcher\n",
    "from nltk.corpus import stopwords"
   ]
  },
  {
   "cell_type": "code",
   "execution_count": null,
   "id": "defac609",
   "metadata": {
    "colab": {
     "base_uri": "https://localhost:8080/"
    },
    "id": "defac609",
    "outputId": "e6e42690-1ceb-4d38-e071-eada7113cc3a"
   },
   "outputs": [],
   "source": [
    "text = extract_text('resume.pdf')\n",
    "print(text)"
   ]
  },
  {
   "cell_type": "code",
   "execution_count": null,
   "id": "dd84d92d",
   "metadata": {
    "id": "dd84d92d"
   },
   "outputs": [],
   "source": [
    "extracted_text={}"
   ]
  },
  {
   "cell_type": "code",
   "execution_count": null,
   "id": "96e429a4",
   "metadata": {
    "colab": {
     "base_uri": "https://localhost:8080/"
    },
    "id": "96e429a4",
    "outputId": "f34fca7e-9faa-4f1a-d0c2-0967c7cbd8a8"
   },
   "outputs": [],
   "source": [
    "def get_email_addresses(string):\n",
    "    r = re.compile(r'[\\w\\.-]+@[\\w\\.-]+')\n",
    "    return r.findall(string)\n",
    "\n",
    "email = get_email_addresses(text)\n",
    "print(email)\n",
    "\n",
    "extracted_text[\"E-Mail\"] = email"
   ]
  },
  {
   "cell_type": "code",
   "execution_count": null,
   "id": "8dbc89d5",
   "metadata": {
    "colab": {
     "base_uri": "https://localhost:8080/"
    },
    "id": "8dbc89d5",
    "outputId": "aff320d4-7776-42de-e85d-9495579d9836"
   },
   "outputs": [],
   "source": [
    "def get_phone_numbers(string):\n",
    "    r = re.compile(r'(\\d{3}[-\\.\\s]??\\d{3}[-\\.\\s]??\\d{4}|\\(\\d{3}\\)\\s*\\d{3}[-\\.\\s]??\\d{4}|\\d{10})')\n",
    "    phone_numbers = r.findall(string)\n",
    "    return [re.sub(r'\\D', '', num) for num in phone_numbers]\n",
    "\n",
    "phone_number= get_phone_numbers(text)\n",
    "print(phone_number)\n",
    "\n",
    "extracted_text[\"Phone Number\"] = phone_number"
   ]
  },
  {
   "cell_type": "code",
   "execution_count": null,
   "id": "7d4fd835",
   "metadata": {
    "id": "7d4fd835"
   },
   "outputs": [],
   "source": [
    "nlp = spacy.load('en_core_web_sm')\n",
    "matcher = Matcher(nlp.vocab)"
   ]
  },
  {
   "cell_type": "code",
   "execution_count": null,
   "id": "de027d13",
   "metadata": {
    "colab": {
     "base_uri": "https://localhost:8080/"
    },
    "id": "de027d13",
    "outputId": "4ac44d7c-f47e-497e-8b16-2a96157055ec"
   },
   "outputs": [],
   "source": [
    "def extract_name(resume_text):\n",
    "    nlp_text = nlp(resume_text)\n",
    "    pattern = [{'POS': 'PROPN'}, {'POS': 'PROPN'}]\n",
    "    matcher.add('NAME', [pattern], on_match = None)\n",
    "    matches = matcher(nlp_text)\n",
    "    for match_id, start, end in matches:\n",
    "        span = nlp_text[start:end]\n",
    "        return span.text\n",
    "name = extract_name(text)\n",
    "print(name)\n",
    "extracted_text[\"Name\"] = name"
   ]
  },
  {
   "cell_type": "code",
   "execution_count": null,
   "id": "e75cd971",
   "metadata": {
    "colab": {
     "base_uri": "https://localhost:8080/"
    },
    "id": "e75cd971",
    "outputId": "5a23095c-4990-4216-dd9e-ec38eb6aa77e"
   },
   "outputs": [],
   "source": [
    "def extract_skills(resume_text):\n",
    "    nlp_text = nlp(resume_text)\n",
    "    tokens = [token.text for token in nlp_text if not token.is_stop]\n",
    "    skills = [\"machine learning\",\n",
    "             \"deep learning\",\n",
    "             \"nlp\",\n",
    "             \"mysql\",\n",
    "             \"computer vision\",\n",
    "             \"opencv\",\n",
    "             \"mongodb\",\n",
    "             \"artificial intelligence\",\n",
    "             \"ai\",\n",
    "             \"flask\",\n",
    "             \"robotics\",\n",
    "             \"data structures\",\n",
    "             \"python\",\n",
    "             \"c++\",\n",
    "             \"matlab\",\n",
    "             \"css\",\n",
    "             \"html\",\n",
    "              \"Java\",\n",
    "              \"Android Development\",\n",
    "              \"C\"]\n",
    "    skillset = []\n",
    "    for token in tokens:\n",
    "        if token.lower() in skills:\n",
    "            skillset.append(token)\n",
    "    for token in nlp_text.noun_chunks:\n",
    "        token = token.text.lower().strip()\n",
    "        if token in skills:\n",
    "            skillset.append(token)\n",
    "\n",
    "    return [i.capitalize() for i in set([i.lower() for i in skillset])]\n",
    "\n",
    "skills = []\n",
    "skills = extract_skills(text)\n",
    "\n",
    "extracted_text[\"Skills\"] = skills\n",
    "skills"
   ]
  },
  {
   "cell_type": "code",
   "execution_count": null,
   "id": "83b9fdf5",
   "metadata": {
    "id": "83b9fdf5"
   },
   "outputs": [],
   "source": [
    "STOPWORDS = set(stopwords.words('english'))\n",
    "EDUCATION = [\n",
    "            'BE','B.E.', 'B.E', 'BSc.', 'Master of Computer Application',\n",
    "            'MCA','BTECH', 'B.TECH', 'M.TECH', 'MTECH',\n",
    "            'HSC', '10th', '+2 science'\n",
    "        ]\n",
    "def extract_education(resume_text):\n",
    "    nlp_text = nlp(resume_text)\n",
    "    nlp_text = [sent.text.strip() for sent in nlp_text.sents]\n",
    "    edu = {}\n",
    "    for index, text in enumerate(nlp_text):\n",
    "        for tex in text.split():\n",
    "            # Replace all special symbols\n",
    "            tex = re.sub(r'[?|$|.|!|,]', r'', tex)\n",
    "            if tex.upper() in EDUCATION and tex not in STOPWORDS:\n",
    "                edu[tex] = text + nlp_text[index + 1]\n",
    "    education = []\n",
    "    for key in edu.keys():\n",
    "        year = re.search(re.compile(r'(((20|19)(\\d{2})))'), edu[key])\n",
    "        if year:\n",
    "            education.append((key, ''.join(year[0])))\n",
    "        else:\n",
    "            education.append(key)\n",
    "    return education\n",
    "education = extract_education(text)\n",
    "education\n",
    "extracted_text[\"Qualification\"] = education"
   ]
  },
  {
   "cell_type": "code",
   "execution_count": null,
   "id": "ff641f85",
   "metadata": {
    "colab": {
     "base_uri": "https://localhost:8080/"
    },
    "id": "ff641f85",
    "outputId": "2e3dfb84-168a-4205-9804-e52dbffe8fa3"
   },
   "outputs": [],
   "source": [
    "extracted_text"
   ]
  },
  {
   "cell_type": "code",
   "execution_count": null,
   "id": "026580e3",
   "metadata": {
    "colab": {
     "base_uri": "https://localhost:8080/"
    },
    "id": "026580e3",
    "outputId": "ad52f747-dc9e-456f-9987-f556a35c7931"
   },
   "outputs": [],
   "source": [
    "sub_patterns = ['[A-Z][a-z]* University','[A-Z][a-z]* Educational Institute',\n",
    "                'University of [A-Z][a-z]*',\n",
    "                'Ecole [A-Z][a-z]*']\n",
    "pattern = '({})'.format('|'.join(sub_patterns))\n",
    "matches = re.findall(pattern, text)\n",
    "\n",
    "extracted_text[\"Institutes\"] = matches\n",
    "matches"
   ]
  },
  {
   "cell_type": "code",
   "execution_count": null,
   "id": "885aab1c",
   "metadata": {
    "colab": {
     "base_uri": "https://localhost:8080/"
    },
    "id": "885aab1c",
    "outputId": "5cfc093d-10b5-4296-d664-7ca974c8108f"
   },
   "outputs": [],
   "source": [
    "sub_patterns = ['[A-Z][a-z]* [A-Z][a-z]* Private Limited','[A-Z][a-z]* [A-Z][a-z]* Pvt. Ltd.','[A-Z][a-z]* [A-Z][a-z]* Inc.', '[A-Z][a-z]* LLC',\n",
    "                ]\n",
    "pattern = '({})'.format('|'.join(sub_patterns))\n",
    "Exp = re.findall(pattern, text)\n",
    "extracted_text[\"Experience\"] = Exp\n",
    "Exp"
   ]
  },
  {
   "cell_type": "code",
   "execution_count": null,
   "id": "e46fb38c",
   "metadata": {
    "colab": {
     "base_uri": "https://localhost:8080/"
    },
    "id": "e46fb38c",
    "outputId": "84069b7a-4cd5-4070-8d2d-878c78ada8e4"
   },
   "outputs": [],
   "source": [
    "extracted_text"
   ]
  }
 ],
 "metadata": {
  "colab": {
   "provenance": []
  },
  "kernelspec": {
   "display_name": "Python 3 (ipykernel)",
   "language": "python",
   "name": "python3"
  },
  "language_info": {
   "codemirror_mode": {
    "name": "ipython",
    "version": 3
   },
   "file_extension": ".py",
   "mimetype": "text/x-python",
   "name": "python",
   "nbconvert_exporter": "python",
   "pygments_lexer": "ipython3",
   "version": "3.9.13"
  }
 },
 "nbformat": 4,
 "nbformat_minor": 5
}
